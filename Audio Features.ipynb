{
 "cells": [
  {
   "cell_type": "code",
   "execution_count": 9,
   "id": "b64d43fd",
   "metadata": {},
   "outputs": [],
   "source": [
    "#!pip install parselmouth --no-deps\n",
    "#!pip install stopit"
   ]
  },
  {
   "cell_type": "code",
   "execution_count": 14,
   "id": "9f83b8d3",
   "metadata": {},
   "outputs": [],
   "source": [
    "#!pip install googlads==13.0.0\n",
    "#!pip install praat-parselmouth\n",
    "from urllib.parse import quote\n"
   ]
  },
  {
   "cell_type": "code",
   "execution_count": 16,
   "id": "13a08ae5",
   "metadata": {},
   "outputs": [
    {
     "ename": "ImportError",
     "evalue": "cannot import name 'quote' from 'urllib' (C:\\Anaconda\\Lib\\urllib\\__init__.py)",
     "output_type": "error",
     "traceback": [
      "\u001b[1;31m---------------------------------------------------------------------------\u001b[0m",
      "\u001b[1;31mImportError\u001b[0m                               Traceback (most recent call last)",
      "Cell \u001b[1;32mIn[16], line 4\u001b[0m\n\u001b[0;32m      2\u001b[0m \u001b[38;5;28;01mimport\u001b[39;00m \u001b[38;5;21;01mnumpy\u001b[39;00m \u001b[38;5;28;01mas\u001b[39;00m \u001b[38;5;21;01mnp\u001b[39;00m\n\u001b[0;32m      3\u001b[0m \u001b[38;5;28;01mimport\u001b[39;00m \u001b[38;5;21;01mpandas\u001b[39;00m \u001b[38;5;28;01mas\u001b[39;00m \u001b[38;5;21;01mpd\u001b[39;00m\n\u001b[1;32m----> 4\u001b[0m \u001b[38;5;28;01mimport\u001b[39;00m \u001b[38;5;21;01mparselmouth\u001b[39;00m\n",
      "File \u001b[1;32mC:\\Anaconda\\Lib\\site-packages\\parselmouth\\__init__.py:22\u001b[0m\n\u001b[0;32m     14\u001b[0m \u001b[38;5;66;03m# Expose package interfaces\u001b[39;00m\n\u001b[0;32m     15\u001b[0m __all__ \u001b[38;5;241m=\u001b[39m [\n\u001b[0;32m     16\u001b[0m     \u001b[38;5;124m'\u001b[39m\u001b[38;5;124mParselmouth\u001b[39m\u001b[38;5;124m'\u001b[39m,\n\u001b[0;32m     17\u001b[0m     \u001b[38;5;124m'\u001b[39m\u001b[38;5;124mParselmouthConfig\u001b[39m\u001b[38;5;124m'\u001b[39m,\n\u001b[0;32m     18\u001b[0m     \u001b[38;5;124m'\u001b[39m\u001b[38;5;124mParselmouthException\u001b[39m\u001b[38;5;124m'\u001b[39m,\n\u001b[0;32m     19\u001b[0m     \u001b[38;5;124m'\u001b[39m\u001b[38;5;124mParselmouthProviders\u001b[39m\u001b[38;5;124m'\u001b[39m,\n\u001b[0;32m     20\u001b[0m ]\n\u001b[1;32m---> 22\u001b[0m \u001b[38;5;28;01mfrom\u001b[39;00m \u001b[38;5;21;01mparselmouth\u001b[39;00m\u001b[38;5;21;01m.\u001b[39;00m\u001b[38;5;21;01mbase\u001b[39;00m \u001b[38;5;28;01mimport\u001b[39;00m Parselmouth\n\u001b[0;32m     23\u001b[0m \u001b[38;5;28;01mfrom\u001b[39;00m \u001b[38;5;21;01mparselmouth\u001b[39;00m\u001b[38;5;21;01m.\u001b[39;00m\u001b[38;5;21;01mconfig\u001b[39;00m \u001b[38;5;28;01mimport\u001b[39;00m ParselmouthConfig\n\u001b[0;32m     24\u001b[0m \u001b[38;5;28;01mfrom\u001b[39;00m \u001b[38;5;21;01mparselmouth\u001b[39;00m\u001b[38;5;21;01m.\u001b[39;00m\u001b[38;5;21;01mexceptions\u001b[39;00m \u001b[38;5;28;01mimport\u001b[39;00m ParselmouthException\n",
      "File \u001b[1;32mC:\\Anaconda\\Lib\\site-packages\\parselmouth\\base.py:30\u001b[0m\n\u001b[0;32m     27\u001b[0m \u001b[38;5;28;01mfrom\u001b[39;00m \u001b[38;5;21;01mparselmouth\u001b[39;00m\u001b[38;5;21;01m.\u001b[39;00m\u001b[38;5;21;01mconfig\u001b[39;00m \u001b[38;5;28;01mimport\u001b[39;00m ParselmouthConfig\n\u001b[0;32m     29\u001b[0m \u001b[38;5;66;03m# Parselmouth Imports - Adapter Imports\u001b[39;00m\n\u001b[1;32m---> 30\u001b[0m \u001b[38;5;28;01mfrom\u001b[39;00m \u001b[38;5;21;01mparselmouth\u001b[39;00m\u001b[38;5;21;01m.\u001b[39;00m\u001b[38;5;21;01madapters\u001b[39;00m\u001b[38;5;21;01m.\u001b[39;00m\u001b[38;5;21;01mdfp\u001b[39;00m\u001b[38;5;21;01m.\u001b[39;00m\u001b[38;5;21;01minterface\u001b[39;00m \u001b[38;5;28;01mimport\u001b[39;00m DFPInterface\n\u001b[0;32m     33\u001b[0m \u001b[38;5;28;01mclass\u001b[39;00m \u001b[38;5;21;01mParselmouth\u001b[39;00m(\u001b[38;5;28mobject\u001b[39m):\n\u001b[0;32m     34\u001b[0m \u001b[38;5;250m    \u001b[39m\u001b[38;5;124;03m\"\"\"\u001b[39;00m\n\u001b[0;32m     35\u001b[0m \u001b[38;5;124;03m    Base Interface Class\u001b[39;00m\n\u001b[0;32m     36\u001b[0m \u001b[38;5;124;03m    \"\"\"\u001b[39;00m\n",
      "File \u001b[1;32mC:\\Anaconda\\Lib\\site-packages\\parselmouth\\adapters\\dfp\\interface.py:17\u001b[0m\n\u001b[0;32m     15\u001b[0m \u001b[38;5;28;01mfrom\u001b[39;00m \u001b[38;5;21;01mdatetime\u001b[39;00m \u001b[38;5;28;01mimport\u001b[39;00m timedelta\n\u001b[0;32m     16\u001b[0m \u001b[38;5;28;01mfrom\u001b[39;00m \u001b[38;5;21;01mpytz\u001b[39;00m \u001b[38;5;28;01mimport\u001b[39;00m timezone\n\u001b[1;32m---> 17\u001b[0m \u001b[38;5;28;01mfrom\u001b[39;00m \u001b[38;5;21;01murllib\u001b[39;00m \u001b[38;5;28;01mimport\u001b[39;00m quote\n\u001b[0;32m     19\u001b[0m \u001b[38;5;66;03m# Parselmouth Imports\u001b[39;00m\n\u001b[0;32m     20\u001b[0m \u001b[38;5;28;01mfrom\u001b[39;00m \u001b[38;5;21;01mparselmouth\u001b[39;00m\u001b[38;5;21;01m.\u001b[39;00m\u001b[38;5;21;01madapters\u001b[39;00m\u001b[38;5;21;01m.\u001b[39;00m\u001b[38;5;21;01mabstract_interface\u001b[39;00m \u001b[38;5;28;01mimport\u001b[39;00m AbstractInterface\n",
      "\u001b[1;31mImportError\u001b[0m: cannot import name 'quote' from 'urllib' (C:\\Anaconda\\Lib\\urllib\\__init__.py)"
     ]
    }
   ],
   "source": [
    "import librosa\n",
    "import numpy as np\n",
    "import pandas as pd\n",
    "import parselmouth  # For jitter, shimmer, and HNR"
   ]
  },
  {
   "cell_type": "code",
   "execution_count": null,
   "id": "01ee4b91-96d2-49f3-a2d1-efe9607d8718",
   "metadata": {},
   "outputs": [],
   "source": [
    "# Replace 'input_audio_path' with your actual audio file path\n",
    "audio_path = \"extracted_audio.mp3\"\n",
    "\n",
    "# Load the audio file\n",
    "audio, sr = librosa.load(audio_path)\n",
    "\n",
    "# Function to extract prosodic and spectral features\n",
    "def extract_prosodic_spectral_features(audio, sr):\n",
    "    pitch = librosa.yin(audio, fmin=librosa.note_to_hz('C2'), fmax=librosa.note_to_hz('C7'))\n",
    "    features = {\n",
    "        # Prosodic Features\n",
    "        'mean_pitch': np.mean(pitch),\n",
    "        'pitch_variability': np.std(pitch),\n",
    "        'speech_rate': librosa.beat.tempo(audio, sr=sr)[0],\n",
    "        \n",
    "        # Spectral Features\n",
    "        'zero_crossing_rate': np.mean(librosa.feature.zero_crossing_rate(audio)),\n",
    "        'spectral_centroid': np.mean(librosa.feature.spectral_centroid(y=audio, sr=sr)),\n",
    "        'spectral_bandwidth': np.mean(librosa.feature.spectral_bandwidth(y=audio, sr=sr)),\n",
    "        'spectral_flatness': np.mean(librosa.feature.spectral_flatness(y=audio)),\n",
    "        'spectral_rolloff': np.mean(librosa.feature.spectral_rolloff(y=audio, sr=sr)),\n",
    "        \n",
    "        # Energy and Rhythm\n",
    "        'rms_energy': np.mean(librosa.feature.rms(y=audio)),\n",
    "    }\n",
    "    \n",
    "    # Extract MFCCs (Mean of first 13 coefficients)\n",
    "    mfcc = librosa.feature.mfcc(y=audio, sr=sr, n_mfcc=13)\n",
    "    for i in range(13):\n",
    "        features[f'mfcc_{i+1}'] = np.mean(mfcc[i])\n",
    "    \n",
    "    return features\n",
    "\n",
    "# Function to extract voice quality features using Praat\n",
    "def extract_voice_quality_features(audio_path):\n",
    "    snd = parselmouth.Sound(audio_path)\n",
    "    pitch = snd.to_pitch()\n",
    "    point_process = snd.to_point_process_cc()\n",
    "    \n",
    "    jitter = pitch.get_jitter(period_floor=0.0001, period_ceiling=0.02)\n",
    "    shimmer = pitch.get_shimmer(period_floor=0.0001, period_ceiling=0.02)\n",
    "    hnr = snd.to_harmonicity_ac().get_mean()\n",
    "    \n",
    "    return {\n",
    "        'jitter': jitter,\n",
    "        'shimmer': shimmer,\n",
    "        'hnr': hnr\n",
    "    }\n",
    "\n",
    "# Extract all features\n",
    "prosodic_spectral_features = extract_prosodic_spectral_features(audio, sr)\n",
    "voice_quality_features = extract_voice_quality_features(audio_path)\n",
    "\n",
    "# Combine all features into a single DataFrame\n",
    "final_features = {**prosodic_spectral_features, **voice_quality_features}\n",
    "final_features_df = pd.DataFrame([final_features])\n",
    "\n",
    "# Save the final features to CSV\n",
    "final_features_df.to_csv(\"final_audio_features.csv\", index=False)\n",
    "\n",
    "# Display the DataFrame\n",
    "print(\"Final Extracted Audio Features:\")\n",
    "print(final_features_df)"
   ]
  }
 ],
 "metadata": {
  "kernelspec": {
   "display_name": "Python 3 (ipykernel)",
   "language": "python",
   "name": "python3"
  },
  "language_info": {
   "codemirror_mode": {
    "name": "ipython",
    "version": 3
   },
   "file_extension": ".py",
   "mimetype": "text/x-python",
   "name": "python",
   "nbconvert_exporter": "python",
   "pygments_lexer": "ipython3",
   "version": "3.11.5"
  }
 },
 "nbformat": 4,
 "nbformat_minor": 5
}
