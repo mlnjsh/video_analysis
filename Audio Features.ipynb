{
 "cells": [
  {
   "cell_type": "code",
   "execution_count": 9,
   "id": "b64d43fd",
   "metadata": {},
   "outputs": [],
   "source": [
    "#!pip install parselmouth --no-deps\n",
    "#!pip install stopit"
   ]
  },
  {
   "cell_type": "code",
   "execution_count": 14,
   "id": "9f83b8d3",
   "metadata": {},
   "outputs": [],
   "source": [
    "#!pip install googlads==13.0.0\n",
    "#!pip install praat-parselmouth\n",
    "from urllib.parse import quote\n"
   ]
  },
  {
   "cell_type": "code",
   "execution_count": 16,
   "id": "13a08ae5",
   "metadata": {},
   
   "source": [
    "import librosa\n",
    "import numpy as np\n",
    "import pandas as pd\n",
    "import parselmouth  # For jitter, shimmer, and HNR"
   ]
  },
  {
   "cell_type": "code",
   "execution_count": null,
   "id": "01ee4b91-96d2-49f3-a2d1-efe9607d8718",
   "metadata": {},
   "outputs": [],
   "source": [
    "# Replace \n",
    "audio_path = \"extracted_audio.mp3\"\n",
    "\n",
    "# Load the audio file\n",
    "audio, sr = librosa.load(audio_path)\n",
    "\n",
    "# Function to extract prosodic and spectral features\n",
    "def extract_prosodic_spectral_features(audio, sr):\n",
    "    pitch = librosa.yin(audio, fmin=librosa.note_to_hz('C2'), fmax=librosa.note_to_hz('C7'))\n",
    "    features = {\n",
    "        # Prosodic Features\n",
    "        'mean_pitch': np.mean(pitch),\n",
    "        'pitch_variability': np.std(pitch),\n",
    "        'speech_rate': librosa.beat.tempo(audio, sr=sr)[0],\n",
    "        \n",
    "        # Spectral Features\n",
    "        'zero_crossing_rate': np.mean(librosa.feature.zero_crossing_rate(audio)),\n",
    "        'spectral_centroid': np.mean(librosa.feature.spectral_centroid(y=audio, sr=sr)),\n",
    "        'spectral_bandwidth': np.mean(librosa.feature.spectral_bandwidth(y=audio, sr=sr)),\n",
    "        'spectral_flatness': np.mean(librosa.feature.spectral_flatness(y=audio)),\n",
    "        'spectral_rolloff': np.mean(librosa.feature.spectral_rolloff(y=audio, sr=sr)),\n",
    "        \n",
    "        # Energy and Rhythm\n",
    "        'rms_energy': np.mean(librosa.feature.rms(y=audio)),\n",
    "    }\n",
    "    \n",
    "    # Extract MFCCs (Mean of first 13 coefficients)\n",
    "    mfcc = librosa.feature.mfcc(y=audio, sr=sr, n_mfcc=13)\n",
    "    for i in range(13):\n",
    "        features[f'mfcc_{i+1}'] = np.mean(mfcc[i])\n",
    "    \n",
    "    return features\n",
    "\n",
    "# Function to extract voice quality features using Praat\n",
    "def extract_voice_quality_features(audio_path):\n",
    "    snd = parselmouth.Sound(audio_path)\n",
    "    pitch = snd.to_pitch()\n",
    "    point_process = snd.to_point_process_cc()\n",
    "    \n",
    "    jitter = pitch.get_jitter(period_floor=0.0001, period_ceiling=0.02)\n",
    "    shimmer = pitch.get_shimmer(period_floor=0.0001, period_ceiling=0.02)\n",
    "    hnr = snd.to_harmonicity_ac().get_mean()\n",
    "    \n",
    "    return {\n",
    "        'jitter': jitter,\n",
    "        'shimmer': shimmer,\n",
    "        'hnr': hnr\n",
    "    }\n",
    "\n",
    "# Extract all features\n",
    "prosodic_spectral_features = extract_prosodic_spectral_features(audio, sr)\n",
    "voice_quality_features = extract_voice_quality_features(audio_path)\n",
    "\n",
    "# Combine all features into a single DataFrame\n",
    "final_features = {**prosodic_spectral_features, **voice_quality_features}\n",
    "final_features_df = pd.DataFrame([final_features])\n",
    "\n",
    "# Save the final features to CSV\n",
    "final_features_df.to_csv(\"final_audio_features.csv\", index=False)\n",
    "\n",
    "# Display the DataFrame\n",
    "print(\"Final Extracted Audio Features:\")\n",
    "print(final_features_df)"
   ]
  }
 ],
 "metadata": {
  "kernelspec": {
   "display_name": "Python 3 (ipykernel)",
   "language": "python",
   "name": "python3"
  },
  "language_info": {
   "codemirror_mode": {
    "name": "ipython",
    "version": 3
   },
   "file_extension": ".py",
   "mimetype": "text/x-python",
   "name": "python",
   "nbconvert_exporter": "python",
   "pygments_lexer": "ipython3",
   "version": "3.11.5"
  }
 },
 "nbformat": 4,
 "nbformat_minor": 5
}
