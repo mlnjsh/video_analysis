{
  "nbformat": 4,
  "nbformat_minor": 0,
  "metadata": {
    "colab": {
      "provenance": []
    },
    "kernelspec": {
      "name": "python3",
      "display_name": "Python 3"
    },
    "language_info": {
      "name": "python"
    }
  },
  "cells": [
    {
      "cell_type": "code",
      "source": [],
      "metadata": {
        "id": "vytD_9m350Cy"
      },
      "execution_count": null,
      "outputs": []
    },
    {
      "cell_type": "code",
      "execution_count": 1,
      "metadata": {
        "colab": {
          "base_uri": "https://localhost:8080/"
        },
        "id": "F5QlyYHS5T8l",
        "outputId": "fbb48468-9247-43a5-b45d-a0af7e1407ae"
      },
      "outputs": [
        {
          "output_type": "stream",
          "name": "stderr",
          "text": [
            "WARNING:py.warnings:/usr/local/lib/python3.10/dist-packages/moviepy/video/io/sliders.py:61: SyntaxWarning: \"is\" with a literal. Did you mean \"==\"?\n",
            "  if event.key is 'enter':\n",
            "\n"
          ]
        },
        {
          "output_type": "stream",
          "name": "stdout",
          "text": [
            "MoviePy - Writing audio in /content/extracted_audio.mp3\n"
          ]
        },
        {
          "output_type": "stream",
          "name": "stderr",
          "text": []
        },
        {
          "output_type": "stream",
          "name": "stdout",
          "text": [
            "MoviePy - Done.\n",
            "Audio successfully extracted to: /content/extracted_audio.mp3\n"
          ]
        }
      ],
      "source": [
        "from moviepy.editor import VideoFileClip\n",
        "import os\n",
        "\n",
        "# Path to the uploaded video file\n",
        "video_file_path = \"/content/bbb9db78-13bb-4c88-994c-c79244ce8c94_1692011832357.mp4\"\n",
        "output_audio_path = \"/content/extracted_audio.mp3\"\n",
        "\n",
        "# Extract audio from video\n",
        "def extract_audio(video_path, audio_output_path):\n",
        "    try:\n",
        "        # Load the video file\n",
        "        video = VideoFileClip(video_path)\n",
        "\n",
        "        # Extract and save the audio\n",
        "        video.audio.write_audiofile(audio_output_path)\n",
        "        print(f\"Audio successfully extracted to: {audio_output_path}\")\n",
        "\n",
        "    except Exception as e:\n",
        "        print(f\"An error occurred: {e}\")\n",
        "\n",
        "# Execute the function\n",
        "extract_audio(video_file_path, output_audio_path)\n"
      ]
    },
    {
      "cell_type": "code",
      "source": [
        "#!pip install mediapipe"
      ],
      "metadata": {
        "id": "O1Oqh4T_8KTQ"
      },
      "execution_count": 4,
      "outputs": []
    },
    {
      "cell_type": "code",
      "source": [
        "import cv2\n",
        "import mediapipe as mp\n",
        "import numpy as np\n",
        "import pandas as pd\n",
        "from moviepy.editor import VideoFileClip\n",
        "import librosa\n",
        "import librosa.display\n",
        "import matplotlib.pyplot as plt\n",
        "import math\n",
        "\n",
        "# Initialize MediaPipe Pose and FaceMesh\n",
        "mp_pose = mp.solutions.pose\n",
        "mp_face_mesh = mp.solutions.face_mesh\n",
        "pose = mp_pose.Pose(static_image_mode=False)\n",
        "face_mesh = mp_face_mesh.FaceMesh(static_image_mode=False, max_num_faces=1)\n",
        "\n",
        "# Path to video and output\n",
        "video_path = \"bbb9db78-13bb-4c88-994c-c79244ce8c94_1692011832357.mp4\"\n",
        "audio_output_path = \"/content/extracted_audio.mp3\"\n",
        "\n",
        "# Function to calculate distance between two landmarks\n",
        "def calculate_distance(landmark1, landmark2):\n",
        "    return math.sqrt((landmark1.x - landmark2.x)**2 + (landmark1.y - landmark2.y)**2 + (landmark1.z - landmark2.z)**2)\n",
        "\n",
        "def process_video(video_path):\n",
        "    cap = cv2.VideoCapture(video_path)\n",
        "    pose_data = []\n",
        "    frame_count = 0\n",
        "\n",
        "    while cap.isOpened():\n",
        "        ret, frame = cap.read()\n",
        "        if not ret:\n",
        "            break\n",
        "\n",
        "        # Convert to RGB\n",
        "        image = cv2.cvtColor(frame, cv2.COLOR_BGR2RGB)\n",
        "        results_pose = pose.process(image)\n",
        "        results_face = face_mesh.process(image)\n",
        "\n",
        "        # Extract pose landmarks\n",
        "        if results_pose.pose_landmarks:\n",
        "            landmarks = results_pose.pose_landmarks.landmark\n",
        "            head_tilt = calculate_distance(landmarks[mp_pose.PoseLandmark.LEFT_EYE], landmarks[mp_pose.PoseLandmark.RIGHT_EYE])\n",
        "            body_movement = calculate_distance(landmarks[mp_pose.PoseLandmark.LEFT_SHOULDER], landmarks[mp_pose.PoseLandmark.RIGHT_SHOULDER])\n",
        "\n",
        "            # Blink detection using FaceMesh\n",
        "            if results_face.multi_face_landmarks:\n",
        "                face_landmarks = results_face.multi_face_landmarks[0].landmark\n",
        "                left_eye_dist = calculate_distance(face_landmarks[159], face_landmarks[145])  # Eye vertical landmarks\n",
        "                right_eye_dist = calculate_distance(face_landmarks[386], face_landmarks[374])\n",
        "                blink_ratio = (left_eye_dist + right_eye_dist) / 2\n",
        "            else:\n",
        "                blink_ratio = None\n",
        "\n",
        "            pose_data.append({\n",
        "                'Frame': frame_count,\n",
        "                'Head Tilt': head_tilt,\n",
        "                'Body Movement': body_movement,\n",
        "                'Blink Ratio': blink_ratio\n",
        "            })\n",
        "        frame_count += 1\n",
        "\n",
        "    cap.release()\n",
        "    return pd.DataFrame(pose_data)\n",
        "\n",
        "def extract_audio_features(audio_path):\n",
        "    \"\"\"Extract pitch and tempo features from audio using Librosa.\"\"\"\n",
        "    y, sr = librosa.load(audio_output_path)\n",
        "    tempo, _ = librosa.beat.beat_track(y=y, sr=sr)\n",
        "    pitches, magnitudes = librosa.piptrack(y=y, sr=sr)\n",
        "    avg_pitch = np.mean(pitches[pitches > 0])  # Non-zero pitch\n",
        "    return {'Tempo': tempo, 'Avg Pitch': avg_pitch}\n",
        "\n",
        "def simulate_skin_signal(frames):\n",
        "    \"\"\"Generate synthetic skin signal changes (sinusoidal waves).\"\"\"\n",
        "    return [math.sin(2 * math.pi * 0.01 * frame) for frame in range(frames)]\n",
        "\n",
        "# Process Video and Extract Features\n",
        "audio_path = extract_audio(video_path, audio_output_path)\n",
        "audio_features = extract_audio_features(audio_path)\n",
        "pose_df = process_video(video_path)\n",
        "skin_signal = simulate_skin_signal(len(pose_df))\n",
        "\n",
        "# Combine All Features into a DataFrame\n",
        "pose_df['Skin Signal'] = skin_signal\n",
        "#pose_df['Tempo'] = audio_features['Tempo']\n",
        "pose_df['Avg Pitch'] = audio_features['Avg Pitch']\n",
        "#pose_df['Tempo'] = audio_features['Tempo']  # Broadcasts the scalar value\n",
        "#pose_df['Tempo'] = audio_features['Tempo']\n",
        "#pose_df['Avg Pitch'] = audio_features['Avg Pitch']  # Broadcasts the scalar value\n",
        "pose_df['Tempo'] = float(audio_features['Tempo'])  # Force as scalar\n",
        "pose_df['Avg Pitch'] = float(audio_features['Avg Pitch'])  # Force as scalar\n",
        "# Display Final DataFrame\n",
        "print(\"Extracted Features DataFrame:\")\n",
        "print(pose_df.head())\n",
        "\n",
        "# Save the DataFrame\n",
        "df_output_path = \"/content/body_language_features.csv\"\n",
        "pose_df.to_csv(df_output_path, index=False)\n",
        "print(f\"DataFrame saved to: {df_output_path}\")\n",
        "\n",
        "# Plot Skin Signal\n",
        "plt.plot(pose_df['Skin Signal'])\n",
        "plt.title(\"Simulated Skin Signal Changes\")\n",
        "plt.xlabel(\"Frame\")\n",
        "plt.ylabel(\"Signal Value\")\n",
        "plt.show()\n"
      ],
      "metadata": {
        "colab": {
          "base_uri": "https://localhost:8080/",
          "height": 857
        },
        "id": "mJZujsIB72CC",
        "outputId": "c4e20d12-c275-4162-a8a8-c7da0755258c"
      },
      "execution_count": 9,
      "outputs": [
        {
          "output_type": "stream",
          "name": "stdout",
          "text": [
            "MoviePy - Writing audio in /content/extracted_audio.mp3\n"
          ]
        },
        {
          "output_type": "stream",
          "name": "stderr",
          "text": []
        },
        {
          "output_type": "stream",
          "name": "stdout",
          "text": [
            "MoviePy - Done.\n",
            "Audio successfully extracted to: /content/extracted_audio.mp3\n"
          ]
        },
        {
          "output_type": "stream",
          "name": "stderr",
          "text": [
            "WARNING:py.warnings:<ipython-input-9-78eac9c66006>:91: DeprecationWarning: Conversion of an array with ndim > 0 to a scalar is deprecated, and will error in future. Ensure you extract a single element from your array before performing this operation. (Deprecated NumPy 1.25.)\n",
            "  pose_df['Tempo'] = float(audio_features['Tempo'])  # Force as scalar\n",
            "\n"
          ]
        },
        {
          "output_type": "stream",
          "name": "stdout",
          "text": [
            "Extracted Features DataFrame:\n",
            "   Frame  Head Tilt  Body Movement  Blink Ratio  Skin Signal    Avg Pitch  \\\n",
            "0    370   0.072011       0.345715     0.017647     0.000000  1470.985229   \n",
            "1    371   0.070759       0.347594     0.020572     0.062791  1470.985229   \n",
            "2    372   0.069669       0.344584     0.018719     0.125333  1470.985229   \n",
            "3    373   0.069884       0.350576     0.018140     0.187381  1470.985229   \n",
            "4    374   0.070099       0.355419     0.018540     0.248690  1470.985229   \n",
            "\n",
            "        Tempo  \n",
            "0  123.046875  \n",
            "1  123.046875  \n",
            "2  123.046875  \n",
            "3  123.046875  \n",
            "4  123.046875  \n",
            "DataFrame saved to: /content/body_language_features.csv\n"
          ]
        },
        {
          "output_type": "display_data",
          "data": {
            "text/plain": [
              "<Figure size 640x480 with 1 Axes>"
            ],
            "image/png": "[encoded data removed]"
          },
          "metadata": {}
        }
      ]
    },
    {
      "cell_type": "code",
      "source": [
        "import librosa\n",
        "import numpy as np\n",
        "import pandas as pd\n",
        "import parselmouth  # For jitter, shimmer, and HNR\n",
        "\n",
        "# Replace 'input_audio_path' with your actual audio file path\n",
        "audio_path = \"/content/extracted_audio.mp3\"\n",
        "\n",
        "# Load the audio file\n",
        "audio, sr = librosa.load(audio_path)\n",
        "\n",
        "# Function to extract prosodic and spectral features\n",
        "def extract_prosodic_spectral_features(audio, sr):\n",
        "    pitch = librosa.yin(audio, fmin=librosa.note_to_hz('C2'), fmax=librosa.note_to_hz('C7'))\n",
        "    features = {\n",
        "        # Prosodic Features\n",
        "        'mean_pitch': np.mean(pitch),\n",
        "        'pitch_variability': np.std(pitch),\n",
        "        'speech_rate': librosa.beat.tempo(audio, sr=sr)[0],\n",
        "\n",
        "        # Spectral Features\n",
        "        'zero_crossing_rate': np.mean(librosa.feature.zero_crossing_rate(audio)),\n",
        "        'spectral_centroid': np.mean(librosa.feature.spectral_centroid(y=audio, sr=sr)),\n",
        "        'spectral_bandwidth': np.mean(librosa.feature.spectral_bandwidth(y=audio, sr=sr)),\n",
        "        'spectral_flatness': np.mean(librosa.feature.spectral_flatness(y=audio)),\n",
        "        'spectral_rolloff': np.mean(librosa.feature.spectral_rolloff(y=audio, sr=sr)),\n",
        "\n",
        "        # Energy and Rhythm\n",
        "        'rms_energy': np.mean(librosa.feature.rms(y=audio)),\n",
        "    }\n",
        "\n",
        "    # Extract MFCCs (Mean of first 13 coefficients)\n",
        "    mfcc = librosa.feature.mfcc(y=audio, sr=sr, n_mfcc=13)\n",
        "    for i in range(13):\n",
        "        features[f'mfcc_{i+1}'] = np.mean(mfcc[i])\n",
        "\n",
        "    return features\n",
        "\n",
        "# Function to extract voice quality features using Praat\n",
        "def extract_voice_quality_features(audio_path):\n",
        "    snd = parselmouth.Sound(audio_path)\n",
        "    pitch = snd.to_pitch()\n",
        "    point_process = snd.to_point_process_cc()\n",
        "\n",
        "    jitter = pitch.get_jitter(period_floor=0.0001, period_ceiling=0.02)\n",
        "    shimmer = pitch.get_shimmer(period_floor=0.0001, period_ceiling=0.02)\n",
        "    hnr = snd.to_harmonicity_ac().get_mean()\n",
        "\n",
        "    return {\n",
        "        'jitter': jitter,\n",
        "        'shimmer': shimmer,\n",
        "        'hnr': hnr\n",
        "    }\n",
        "\n",
        "# Extract all features\n",
        "prosodic_spectral_features = extract_prosodic_spectral_features(audio, sr)\n",
        "voice_quality_features = extract_voice_quality_features(audio_path)\n",
        "\n",
        "# Combine all features into a single DataFrame\n",
        "final_features = {**prosodic_spectral_features, **voice_quality_features}\n",
        "final_features_df = pd.DataFrame([final_features])\n",
        "\n",
        "# Save the final features to CSV\n",
        "final_features_df.to_csv(\"final_audio_features.csv\", index=False)\n",
        "\n",
        "# Display the DataFrame\n",
        "print(\"Final Extracted Audio Features:\")\n",
        "print(final_features_df)\n"
      ],
      "metadata": {
        "id": "1vHEDVvodjwm"
      },
      "execution_count": null,
      "outputs": []
    },
    {
      "cell_type": "code",
      "source": [
        "#!pip install librosa numpy pandas praat-parselmouth\n"
      ],
      "metadata": {
        "colab": {
          "base_uri": "https://localhost:8080/"
        },
        "id": "0WL5saHRdqH-",
        "outputId": "22d5941c-f1f0-41c8-b31f-76b212c4e5b2"
      },
      "execution_count": 3,
      "outputs": [
        {
          "output_type": "stream",
          "name": "stdout",
          "text": [
            "Requirement already satisfied: librosa in /usr/local/lib/python3.10/dist-packages (0.10.2.post1)\n",
            "Requirement already satisfied: numpy in /usr/local/lib/python3.10/dist-packages (1.26.4)\n",
            "Requirement already satisfied: pandas in /usr/local/lib/python3.10/dist-packages (2.2.2)\n",
            "Collecting praat-parselmouth\n",
            "  Downloading praat_parselmouth-0.4.5-cp310-cp310-manylinux_2_12_x86_64.manylinux2010_x86_64.whl.metadata (2.9 kB)\n",
            "Requirement already satisfied: audioread>=2.1.9 in /usr/local/lib/python3.10/dist-packages (from librosa) (3.0.1)\n",
            "Requirement already satisfied: scipy>=1.2.0 in /usr/local/lib/python3.10/dist-packages (from librosa) (1.13.1)\n",
            "Requirement already satisfied: scikit-learn>=0.20.0 in /usr/local/lib/python3.10/dist-packages (from librosa) (1.5.2)\n",
            "Requirement already satisfied: joblib>=0.14 in /usr/local/lib/python3.10/dist-packages (from librosa) (1.4.2)\n",
            "Requirement already satisfied: decorator>=4.3.0 in /usr/local/lib/python3.10/dist-packages (from librosa) (4.4.2)\n",
            "Requirement already satisfied: numba>=0.51.0 in /usr/local/lib/python3.10/dist-packages (from librosa) (0.60.0)\n",
            "Requirement already satisfied: soundfile>=0.12.1 in /usr/local/lib/python3.10/dist-packages (from librosa) (0.12.1)\n",
            "Requirement already satisfied: pooch>=1.1 in /usr/local/lib/python3.10/dist-packages (from librosa) (1.8.2)\n",
            "Requirement already satisfied: soxr>=0.3.2 in /usr/local/lib/python3.10/dist-packages (from librosa) (0.5.0.post1)\n",
            "Requirement already satisfied: typing-extensions>=4.1.1 in /usr/local/lib/python3.10/dist-packages (from librosa) (4.12.2)\n",
            "Requirement already satisfied: lazy-loader>=0.1 in /usr/local/lib/python3.10/dist-packages (from librosa) (0.4)\n",
            "Requirement already satisfied: msgpack>=1.0 in /usr/local/lib/python3.10/dist-packages (from librosa) (1.1.0)\n",
            "Requirement already satisfied: python-dateutil>=2.8.2 in /usr/local/lib/python3.10/dist-packages (from pandas) (2.8.2)\n",
            "Requirement already satisfied: pytz>=2020.1 in /usr/local/lib/python3.10/dist-packages (from pandas) (2024.2)\n",
            "Requirement already satisfied: tzdata>=2022.7 in /usr/local/lib/python3.10/dist-packages (from pandas) (2024.2)\n",
            "Requirement already satisfied: packaging in /usr/local/lib/python3.10/dist-packages (from lazy-loader>=0.1->librosa) (24.2)\n",
            "Requirement already satisfied: llvmlite<0.44,>=0.43.0dev0 in /usr/local/lib/python3.10/dist-packages (from numba>=0.51.0->librosa) (0.43.0)\n",
            "Requirement already satisfied: platformdirs>=2.5.0 in /usr/local/lib/python3.10/dist-packages (from pooch>=1.1->librosa) (4.3.6)\n",
            "Requirement already satisfied: requests>=2.19.0 in /usr/local/lib/python3.10/dist-packages (from pooch>=1.1->librosa) (2.32.3)\n",
            "Requirement already satisfied: six>=1.5 in /usr/local/lib/python3.10/dist-packages (from python-dateutil>=2.8.2->pandas) (1.17.0)\n",
            "Requirement already satisfied: threadpoolctl>=3.1.0 in /usr/local/lib/python3.10/dist-packages (from scikit-learn>=0.20.0->librosa) (3.5.0)\n",
            "Requirement already satisfied: cffi>=1.0 in /usr/local/lib/python3.10/dist-packages (from soundfile>=0.12.1->librosa) (1.17.1)\n",
            "Requirement already satisfied: pycparser in /usr/local/lib/python3.10/dist-packages (from cffi>=1.0->soundfile>=0.12.1->librosa) (2.22)\n",
            "Requirement already satisfied: charset-normalizer<4,>=2 in /usr/local/lib/python3.10/dist-packages (from requests>=2.19.0->pooch>=1.1->librosa) (3.4.0)\n",
            "Requirement already satisfied: idna<4,>=2.5 in /usr/local/lib/python3.10/dist-packages (from requests>=2.19.0->pooch>=1.1->librosa) (3.10)\n",
            "Requirement already satisfied: urllib3<3,>=1.21.1 in /usr/local/lib/python3.10/dist-packages (from requests>=2.19.0->pooch>=1.1->librosa) (2.2.3)\n",
            "Requirement already satisfied: certifi>=2017.4.17 in /usr/local/lib/python3.10/dist-packages (from requests>=2.19.0->pooch>=1.1->librosa) (2024.8.30)\n",
            "Downloading praat_parselmouth-0.4.5-cp310-cp310-manylinux_2_12_x86_64.manylinux2010_x86_64.whl (10.7 MB)\n",
            "\u001b[2K   \u001b[90m━━━━━━━━━━━━━━━━━━━━━━━━━━━━━━━━━━━━━━━━\u001b[0m \u001b[32m10.7/10.7 MB\u001b[0m \u001b[31m69.0 MB/s\u001b[0m eta \u001b[36m0:00:00\u001b[0m\n",
            "\u001b[?25hInstalling collected packages: praat-parselmouth\n",
            "Successfully installed praat-parselmouth-0.4.5\n"
          ]
        }
      ]
    }
  ]
}